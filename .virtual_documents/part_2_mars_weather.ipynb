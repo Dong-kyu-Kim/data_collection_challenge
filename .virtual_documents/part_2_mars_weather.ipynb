


# Import relevant libraries
from splinter import Browser
from bs4 import BeautifulSoup as soup
import matplotlib.pyplot as plt
import pandas as pd


browser = Browser('chrome')





# Visit the website
# https://static.bc-edx.com/data/web/mars_facts/temperature.html
url = "https://static.bc-edx.com/data/web/mars_facts/temperature.html"
browser.visit(url)





# Create a Beautiful Soup Object
html = browser.html
html_soup = soup(html, 'html.parser')


# Extract all rows of data
rows = html_soup.find_all('tr', class_ = 'data-row')





# Create an empty list
list_of_rows = []

# Loop through the scraped data to create a list of rows
for row in rows:
    td = row.find_all('td')
    row = [col.text for col in td]
    list_of_rows.append(row)


# Create a Pandas DataFrame by using the list of rows and a list of the column names
df = pd.DataFrame(list_of_rows, columns = ['id', 'terrestrial_date',
                                      'sol', 'ls', 'month', 
                                      'min_temp', 'pressure'])


# Confirm DataFrame was created successfully
df.head()





# Examine data type of each column
df.dtypes


# Change data types for data analysis
df.terrestrial_date = pd.to_datetime(df.terrestrial_date)
df.sol = df.sol.astype('int')
df.ls = df.ls.astype('int')
df.month = df.month.astype('int')
df.min_temp = df.min_temp = df.min_temp.astype('float')
df.pressure = df.pressure.astype('float')


# Confirm type changes were successful by examining data types again
df.dtypes





# 1. How many months are there on Mars?
df["month"].value_counts().sort_index()


# 2. How many sols (Martian days) worth of data are there?
df["sol"].nunique()


# 3. What is the average minimum temperature by month?
min_temp_month = df.groupby("month")["min_temp"].mean()
min_temp_month


# Plot the average minimum temperature by month
min_temp_month.plot(kind = 'bar', color = 'red', alpha = 0.5)
plt.ylabel("Temp is C")
plt.show()


# Identify the coldest and hottest months in Curiosity's location by sorting the previous graph
min_temp_month.sort_values().plot(kind = 'bar', color = 'green', alpha = 0.5)
plt.ylabel("Temp is C")
plt.show()


# 4. What is the average pressure by month?
pressure_month = df.groupby("month")["pressure"].mean()
pressure_month


# Plot the average pressure by month
pressure_month.sort_values().plot(kind = 'bar', color = 'blue', alpha = 0.5)
plt.ylabel("Atmospheric Pressure")
plt.show()


# Identify the lowest and highest pressure months in Curiosity's location by sorting the previous graph



# 5. How many terrestrial (Earth) days are there in a Martian year?
# Visually estimate the result by plotting the daily minimum temperature of each observation in the data set.
df.min_temp.plot(color = 'black', alpha = 0.5)
plt.xlabel("Number of Terrestrial Days")
plt.ylabel("Minimum Temp")
plt.show()














# Write the data to a CSV
df.to_csv("mars_data.csv", index = False)


browser.quit()



