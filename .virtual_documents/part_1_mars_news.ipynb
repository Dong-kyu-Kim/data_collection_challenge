


# Import Splinter and BeautifulSoup
from splinter import Browser
from bs4 import BeautifulSoup


browser = Browser('chrome')





# Visit the Mars news site
url = 'https://static.bc-edx.com/data/web/mars_news/index.html'
browser.visit(url)





# Create a Beautiful Soup object
html = browser.html
news_soup = soup(html, 'html.parser')


# Extract all the text elements
text_elements = news_soup.find_all('div', class_ = 'list_text')
text_elements





# Create an empty list to store the dictionaries
news_items = []


# Loop through the text elements
# Extract the title and preview text from the elements
# Store each title and preview pair in a dictionary
# Add the dictionary to the list
for pane in text_elements:
    title = el.find('div', class_ = 'content_title').text
    preview = el.find('div', class_ = 'article_teaser_body').text
    new_item = {
        'title': title,
        'preview': preview
    }
    news_items.append(new_item)


# Print the list to confirm success
news_items


browser.quit()



